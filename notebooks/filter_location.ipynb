{
 "cells": [
  {
   "cell_type": "code",
   "execution_count": 2,
   "metadata": {},
   "outputs": [],
   "source": [
    "from rockset import Client, Q\n",
    "rs = Client()\n",
    "import pprint\n",
    "pp = pprint.PrettyPrinter(indent=4)\n",
    "def f(x):\n",
    "    pp.pprint(list(rs.sql(Q(x))))"
   ]
  },
  {
   "cell_type": "code",
   "execution_count": 5,
   "metadata": {},
   "outputs": [
    {
     "name": "stdout",
     "output_type": "stream",
     "text": [
      "[{'?count': 1027959589}]\n"
     ]
    }
   ],
   "source": [
    "f('SELECT count(*) FROM web_sales JOIN web_returns ON web_sales.ws_web_page_sk = web_returns.wr_web_page_sk LIMIT 10')"
   ]
  },
  {
   "cell_type": "code",
   "execution_count": 15,
   "metadata": {},
   "outputs": [
    {
     "name": "stdout",
     "output_type": "stream",
     "text": [
      "[   {   'sources': [   'https://github.com/unitedstates/congress-legislators',\n",
      "                       'http://wikidata.org/',\n",
      "                       'http://gender-balance.org/']}]\n"
     ]
    }
   ],
   "source": [
    "f('select a.meta.sources from \"pol_senators\" a')"
   ]
  },
  {
   "cell_type": "code",
   "execution_count": 16,
   "metadata": {},
   "outputs": [
    {
     "name": "stdout",
     "output_type": "stream",
     "text": [
      "[   {'field': ['areas', '*', 'id'], 'type': 'string'},\n",
      "    {   'field': ['areas', '*', 'identifiers', '*', 'identifier'],\n",
      "        'type': 'string'},\n",
      "    {'field': ['areas', '*', 'identifiers', '*', 'scheme'], 'type': 'string'},\n",
      "    {'field': ['areas', '*', 'name'], 'type': 'string'},\n",
      "    {'field': ['areas', '*', 'other_names', '*', 'lang'], 'type': 'string'},\n",
      "    {'field': ['areas', '*', 'other_names', '*', 'name'], 'type': 'string'},\n",
      "    {'field': ['areas', '*', 'other_names', '*', 'note'], 'type': 'string'},\n",
      "    {'field': ['areas', '*', 'type'], 'type': 'string'},\n",
      "    {'field': ['events', '*', 'classification'], 'type': 'string'},\n",
      "    {'field': ['events', '*', 'end_date'], 'type': 'string'},\n",
      "    {'field': ['events', '*', 'id'], 'type': 'string'},\n",
      "    {   'field': ['events', '*', 'identifiers', '*', 'identifier'],\n",
      "        'type': 'string'},\n",
      "    {'field': ['events', '*', 'identifiers', '*', 'scheme'], 'type': 'string'},\n",
      "    {'field': ['events', '*', 'name'], 'type': 'string'},\n",
      "    {'field': ['events', '*', 'organization_id'], 'type': 'string'},\n",
      "    {'field': ['events', '*', 'start_date'], 'type': 'string'},\n",
      "    {'field': ['memberships', '*', 'area_id'], 'type': 'string'},\n",
      "    {'field': ['memberships', '*', 'end_date'], 'type': 'string'},\n",
      "    {'field': ['memberships', '*', 'legislative_period_id'], 'type': 'string'},\n",
      "    {'field': ['memberships', '*', 'on_behalf_of_id'], 'type': 'string'},\n",
      "    {'field': ['memberships', '*', 'organization_id'], 'type': 'string'},\n",
      "    {'field': ['memberships', '*', 'person_id'], 'type': 'string'},\n",
      "    {'field': ['memberships', '*', 'role'], 'type': 'string'},\n",
      "    {'field': ['memberships', '*', 'start_date'], 'type': 'string'},\n",
      "    {'field': ['meta', 'sources', '*'], 'type': 'string'},\n",
      "    {'field': ['organizations', '*', 'classification'], 'type': 'string'},\n",
      "    {'field': ['organizations', '*', 'id'], 'type': 'string'},\n",
      "    {   'field': ['organizations', '*', 'identifiers', '*', 'identifier'],\n",
      "        'type': 'string'},\n",
      "    {   'field': ['organizations', '*', 'identifiers', '*', 'scheme'],\n",
      "        'type': 'string'},\n",
      "    {'field': ['organizations', '*', 'image'], 'type': 'string'},\n",
      "    {'field': ['organizations', '*', 'links', '*', 'note'], 'type': 'string'},\n",
      "    {'field': ['organizations', '*', 'links', '*', 'url'], 'type': 'string'},\n",
      "    {'field': ['organizations', '*', 'name'], 'type': 'string'},\n",
      "    {   'field': ['organizations', '*', 'other_names', '*', 'lang'],\n",
      "        'type': 'string'},\n",
      "    {   'field': ['organizations', '*', 'other_names', '*', 'name'],\n",
      "        'type': 'string'},\n",
      "    {   'field': ['organizations', '*', 'other_names', '*', 'note'],\n",
      "        'type': 'string'},\n",
      "    {   'field': ['organizations', '*', 'other_names', '*', 'source'],\n",
      "        'type': 'string'},\n",
      "    {'field': ['organizations', '*', 'seats'], 'type': 'int'},\n",
      "    {'field': ['organizations', '*', 'type'], 'type': 'string'},\n",
      "    {'field': ['persons', '*', 'birth_date'], 'type': 'string'},\n",
      "    {   'field': ['persons', '*', 'contact_details', '*', 'type'],\n",
      "        'type': 'string'},\n",
      "    {   'field': ['persons', '*', 'contact_details', '*', 'value'],\n",
      "        'type': 'string'},\n",
      "    {'field': ['persons', '*', 'death_date'], 'type': 'string'},\n",
      "    {'field': ['persons', '*', 'family_name'], 'type': 'string'},\n",
      "    {'field': ['persons', '*', 'gender'], 'type': 'string'},\n",
      "    {'field': ['persons', '*', 'given_name'], 'type': 'string'},\n",
      "    {'field': ['persons', '*', 'id'], 'type': 'string'},\n",
      "    {   'field': ['persons', '*', 'identifiers', '*', 'identifier'],\n",
      "        'type': 'string'},\n",
      "    {'field': ['persons', '*', 'identifiers', '*', 'scheme'], 'type': 'string'},\n",
      "    {'field': ['persons', '*', 'image'], 'type': 'string'},\n",
      "    {'field': ['persons', '*', 'images', '*', 'url'], 'type': 'string'},\n",
      "    {'field': ['persons', '*', 'links', '*', 'note'], 'type': 'string'},\n",
      "    {'field': ['persons', '*', 'links', '*', 'url'], 'type': 'string'},\n",
      "    {'field': ['persons', '*', 'name'], 'type': 'string'},\n",
      "    {'field': ['persons', '*', 'other_names', '*', 'lang'], 'type': 'string'},\n",
      "    {'field': ['persons', '*', 'other_names', '*', 'name'], 'type': 'string'},\n",
      "    {'field': ['persons', '*', 'other_names', '*', 'note'], 'type': 'string'},\n",
      "    {'field': ['persons', '*', 'sort_name'], 'type': 'string'}]\n"
     ]
    }
   ],
   "source": [
    "f('describe pol_senators')"
   ]
  },
  {
   "cell_type": "code",
   "execution_count": null,
   "metadata": {},
   "outputs": [],
   "source": []
  }
 ],
 "metadata": {
  "kernelspec": {
   "display_name": "Python 3",
   "language": "python",
   "name": "python3"
  },
  "language_info": {
   "codemirror_mode": {
    "name": "ipython",
    "version": 3
   },
   "file_extension": ".py",
   "mimetype": "text/x-python",
   "name": "python",
   "nbconvert_exporter": "python",
   "pygments_lexer": "ipython3",
   "version": "3.7.0"
  }
 },
 "nbformat": 4,
 "nbformat_minor": 2
}
